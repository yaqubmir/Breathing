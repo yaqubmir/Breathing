{
  "nbformat": 4,
  "nbformat_minor": 0,
  "metadata": {
    "colab": {
      "provenance": [],
      "authorship_tag": "ABX9TyNj9lA4Wm2jQC4Sf3hL0JWp",
      "include_colab_link": true
    },
    "kernelspec": {
      "name": "python3",
      "display_name": "Python 3"
    },
    "language_info": {
      "name": "python"
    }
  },
  "cells": [
    {
      "cell_type": "markdown",
      "metadata": {
        "id": "view-in-github",
        "colab_type": "text"
      },
      "source": [
        "<a href=\"https://colab.research.google.com/github/yaqubmir/Breathing/blob/main/June30_Hypercapnia_all.ipynb\" target=\"_parent\"><img src=\"https://colab.research.google.com/assets/colab-badge.svg\" alt=\"Open In Colab\"/></a>"
      ]
    },
    {
      "cell_type": "code",
      "execution_count": 52,
      "metadata": {
        "id": "oYgzVDZ2ST7g"
      },
      "outputs": [],
      "source": [
        "import pandas as pd\n",
        "filepath = '/content/june30_2023_440_hypercapnia.csv'\n",
        "import numpy as np"
      ]
    },
    {
      "cell_type": "code",
      "source": [
        "data = pd.read_csv(filepath)\n",
        "filename = filepath.split('/')[-1].split('.')[0]\n",
        "filename"
      ],
      "metadata": {
        "colab": {
          "base_uri": "https://localhost:8080/",
          "height": 36
        },
        "id": "U8vhNAhTSdA_",
        "outputId": "20c3bf26-37cb-4905-9329-22c696c41eeb"
      },
      "execution_count": 53,
      "outputs": [
        {
          "output_type": "execute_result",
          "data": {
            "text/plain": [
              "'june30_2023_440_hypercapnia'"
            ],
            "application/vnd.google.colaboratory.intrinsic+json": {
              "type": "string"
            }
          },
          "metadata": {},
          "execution_count": 53
        }
      ]
    },
    {
      "cell_type": "code",
      "source": [
        "data.columns"
      ],
      "metadata": {
        "colab": {
          "base_uri": "https://localhost:8080/"
        },
        "id": "JcepfgDLSfPQ",
        "outputId": "47badb62-959d-4d13-eecc-0baf3373e600"
      },
      "execution_count": 54,
      "outputs": [
        {
          "output_type": "execute_result",
          "data": {
            "text/plain": [
              "Index(['Unnamed: 0', 'Date', 'time', 'time1', 'Frequency', 'behaviour'], dtype='object')"
            ]
          },
          "metadata": {},
          "execution_count": 54
        }
      ]
    },
    {
      "cell_type": "code",
      "source": [
        "\n",
        "\n",
        "data = data[['Date', 'time', 'time1', 'Frequency']]"
      ],
      "metadata": {
        "id": "KP5CqUWRk9mX"
      },
      "execution_count": 55,
      "outputs": []
    },
    {
      "cell_type": "code",
      "source": [
        "def map_behaviour(frequency):\n",
        "  if frequency>=500:\n",
        "    return 'Snifing'\n",
        "  elif frequency>=400 and frequency<500:\n",
        "    return 'licking'\n",
        "  elif frequency>=300 and frequency<400:\n",
        "    return 'face scratching'\n",
        "  elif frequency>=50:\n",
        "    return 'calm'\n",
        "  else:\n",
        "    return 'rej'"
      ],
      "metadata": {
        "id": "vETtJ2bMk9zQ"
      },
      "execution_count": 56,
      "outputs": []
    },
    {
      "cell_type": "code",
      "source": [
        "data['behaviour'] = data['Frequency'].map(map_behaviour)"
      ],
      "metadata": {
        "id": "x4e0w8N_k920"
      },
      "execution_count": 57,
      "outputs": []
    },
    {
      "cell_type": "code",
      "source": [
        "new_data = data[599:4199]\n",
        "new_data"
      ],
      "metadata": {
        "colab": {
          "base_uri": "https://localhost:8080/",
          "height": 423
        },
        "id": "KQynK5nlotZP",
        "outputId": "80c4e549-7c6e-424f-e53d-45202b361cae"
      },
      "execution_count": 58,
      "outputs": [
        {
          "output_type": "execute_result",
          "data": {
            "text/plain": [
              "           Date            time    time1  Frequency        behaviour\n",
              "599   30-Jun-23  4:43:17 PM.563  10:06.0        374  face scratching\n",
              "600   30-Jun-23  4:43:18 PM.563  10:07.0        366  face scratching\n",
              "601   30-Jun-23  4:43:19 PM.563  10:08.0        417          licking\n",
              "602   30-Jun-23  4:43:20 PM.563  10:09.0        349  face scratching\n",
              "603   30-Jun-23  4:43:21 PM.563  10:10.0        414          licking\n",
              "...         ...             ...      ...        ...              ...\n",
              "4194  30-Jun-23  5:43:12 PM.563  10:01.0        416          licking\n",
              "4195  30-Jun-23  5:43:13 PM.563  10:02.0        486          licking\n",
              "4196  30-Jun-23  5:43:14 PM.563  10:03.0        512          Snifing\n",
              "4197  30-Jun-23  5:43:15 PM.563  10:04.0        413          licking\n",
              "4198  30-Jun-23  5:43:16 PM.563  10:05.0        512          Snifing\n",
              "\n",
              "[3600 rows x 5 columns]"
            ],
            "text/html": [
              "\n",
              "\n",
              "  <div id=\"df-b746410c-3937-41b8-9a8f-96f26749e62d\">\n",
              "    <div class=\"colab-df-container\">\n",
              "      <div>\n",
              "<style scoped>\n",
              "    .dataframe tbody tr th:only-of-type {\n",
              "        vertical-align: middle;\n",
              "    }\n",
              "\n",
              "    .dataframe tbody tr th {\n",
              "        vertical-align: top;\n",
              "    }\n",
              "\n",
              "    .dataframe thead th {\n",
              "        text-align: right;\n",
              "    }\n",
              "</style>\n",
              "<table border=\"1\" class=\"dataframe\">\n",
              "  <thead>\n",
              "    <tr style=\"text-align: right;\">\n",
              "      <th></th>\n",
              "      <th>Date</th>\n",
              "      <th>time</th>\n",
              "      <th>time1</th>\n",
              "      <th>Frequency</th>\n",
              "      <th>behaviour</th>\n",
              "    </tr>\n",
              "  </thead>\n",
              "  <tbody>\n",
              "    <tr>\n",
              "      <th>599</th>\n",
              "      <td>30-Jun-23</td>\n",
              "      <td>4:43:17 PM.563</td>\n",
              "      <td>10:06.0</td>\n",
              "      <td>374</td>\n",
              "      <td>face scratching</td>\n",
              "    </tr>\n",
              "    <tr>\n",
              "      <th>600</th>\n",
              "      <td>30-Jun-23</td>\n",
              "      <td>4:43:18 PM.563</td>\n",
              "      <td>10:07.0</td>\n",
              "      <td>366</td>\n",
              "      <td>face scratching</td>\n",
              "    </tr>\n",
              "    <tr>\n",
              "      <th>601</th>\n",
              "      <td>30-Jun-23</td>\n",
              "      <td>4:43:19 PM.563</td>\n",
              "      <td>10:08.0</td>\n",
              "      <td>417</td>\n",
              "      <td>licking</td>\n",
              "    </tr>\n",
              "    <tr>\n",
              "      <th>602</th>\n",
              "      <td>30-Jun-23</td>\n",
              "      <td>4:43:20 PM.563</td>\n",
              "      <td>10:09.0</td>\n",
              "      <td>349</td>\n",
              "      <td>face scratching</td>\n",
              "    </tr>\n",
              "    <tr>\n",
              "      <th>603</th>\n",
              "      <td>30-Jun-23</td>\n",
              "      <td>4:43:21 PM.563</td>\n",
              "      <td>10:10.0</td>\n",
              "      <td>414</td>\n",
              "      <td>licking</td>\n",
              "    </tr>\n",
              "    <tr>\n",
              "      <th>...</th>\n",
              "      <td>...</td>\n",
              "      <td>...</td>\n",
              "      <td>...</td>\n",
              "      <td>...</td>\n",
              "      <td>...</td>\n",
              "    </tr>\n",
              "    <tr>\n",
              "      <th>4194</th>\n",
              "      <td>30-Jun-23</td>\n",
              "      <td>5:43:12 PM.563</td>\n",
              "      <td>10:01.0</td>\n",
              "      <td>416</td>\n",
              "      <td>licking</td>\n",
              "    </tr>\n",
              "    <tr>\n",
              "      <th>4195</th>\n",
              "      <td>30-Jun-23</td>\n",
              "      <td>5:43:13 PM.563</td>\n",
              "      <td>10:02.0</td>\n",
              "      <td>486</td>\n",
              "      <td>licking</td>\n",
              "    </tr>\n",
              "    <tr>\n",
              "      <th>4196</th>\n",
              "      <td>30-Jun-23</td>\n",
              "      <td>5:43:14 PM.563</td>\n",
              "      <td>10:03.0</td>\n",
              "      <td>512</td>\n",
              "      <td>Snifing</td>\n",
              "    </tr>\n",
              "    <tr>\n",
              "      <th>4197</th>\n",
              "      <td>30-Jun-23</td>\n",
              "      <td>5:43:15 PM.563</td>\n",
              "      <td>10:04.0</td>\n",
              "      <td>413</td>\n",
              "      <td>licking</td>\n",
              "    </tr>\n",
              "    <tr>\n",
              "      <th>4198</th>\n",
              "      <td>30-Jun-23</td>\n",
              "      <td>5:43:16 PM.563</td>\n",
              "      <td>10:05.0</td>\n",
              "      <td>512</td>\n",
              "      <td>Snifing</td>\n",
              "    </tr>\n",
              "  </tbody>\n",
              "</table>\n",
              "<p>3600 rows × 5 columns</p>\n",
              "</div>\n",
              "      <button class=\"colab-df-convert\" onclick=\"convertToInteractive('df-b746410c-3937-41b8-9a8f-96f26749e62d')\"\n",
              "              title=\"Convert this dataframe to an interactive table.\"\n",
              "              style=\"display:none;\">\n",
              "\n",
              "  <svg xmlns=\"http://www.w3.org/2000/svg\" height=\"24px\"viewBox=\"0 0 24 24\"\n",
              "       width=\"24px\">\n",
              "    <path d=\"M0 0h24v24H0V0z\" fill=\"none\"/>\n",
              "    <path d=\"M18.56 5.44l.94 2.06.94-2.06 2.06-.94-2.06-.94-.94-2.06-.94 2.06-2.06.94zm-11 1L8.5 8.5l.94-2.06 2.06-.94-2.06-.94L8.5 2.5l-.94 2.06-2.06.94zm10 10l.94 2.06.94-2.06 2.06-.94-2.06-.94-.94-2.06-.94 2.06-2.06.94z\"/><path d=\"M17.41 7.96l-1.37-1.37c-.4-.4-.92-.59-1.43-.59-.52 0-1.04.2-1.43.59L10.3 9.45l-7.72 7.72c-.78.78-.78 2.05 0 2.83L4 21.41c.39.39.9.59 1.41.59.51 0 1.02-.2 1.41-.59l7.78-7.78 2.81-2.81c.8-.78.8-2.07 0-2.86zM5.41 20L4 18.59l7.72-7.72 1.47 1.35L5.41 20z\"/>\n",
              "  </svg>\n",
              "      </button>\n",
              "\n",
              "\n",
              "\n",
              "    <div id=\"df-8a818169-185c-42a7-b4b3-c12509253c0d\">\n",
              "      <button class=\"colab-df-quickchart\" onclick=\"quickchart('df-8a818169-185c-42a7-b4b3-c12509253c0d')\"\n",
              "              title=\"Suggest charts.\"\n",
              "              style=\"display:none;\">\n",
              "\n",
              "<svg xmlns=\"http://www.w3.org/2000/svg\" height=\"24px\"viewBox=\"0 0 24 24\"\n",
              "     width=\"24px\">\n",
              "    <g>\n",
              "        <path d=\"M19 3H5c-1.1 0-2 .9-2 2v14c0 1.1.9 2 2 2h14c1.1 0 2-.9 2-2V5c0-1.1-.9-2-2-2zM9 17H7v-7h2v7zm4 0h-2V7h2v10zm4 0h-2v-4h2v4z\"/>\n",
              "    </g>\n",
              "</svg>\n",
              "      </button>\n",
              "    </div>\n",
              "\n",
              "<style>\n",
              "  .colab-df-quickchart {\n",
              "    background-color: #E8F0FE;\n",
              "    border: none;\n",
              "    border-radius: 50%;\n",
              "    cursor: pointer;\n",
              "    display: none;\n",
              "    fill: #1967D2;\n",
              "    height: 32px;\n",
              "    padding: 0 0 0 0;\n",
              "    width: 32px;\n",
              "  }\n",
              "\n",
              "  .colab-df-quickchart:hover {\n",
              "    background-color: #E2EBFA;\n",
              "    box-shadow: 0px 1px 2px rgba(60, 64, 67, 0.3), 0px 1px 3px 1px rgba(60, 64, 67, 0.15);\n",
              "    fill: #174EA6;\n",
              "  }\n",
              "\n",
              "  [theme=dark] .colab-df-quickchart {\n",
              "    background-color: #3B4455;\n",
              "    fill: #D2E3FC;\n",
              "  }\n",
              "\n",
              "  [theme=dark] .colab-df-quickchart:hover {\n",
              "    background-color: #434B5C;\n",
              "    box-shadow: 0px 1px 3px 1px rgba(0, 0, 0, 0.15);\n",
              "    filter: drop-shadow(0px 1px 2px rgba(0, 0, 0, 0.3));\n",
              "    fill: #FFFFFF;\n",
              "  }\n",
              "</style>\n",
              "\n",
              "    <script>\n",
              "      async function quickchart(key) {\n",
              "        const containerElement = document.querySelector('#' + key);\n",
              "        const charts = await google.colab.kernel.invokeFunction(\n",
              "            'suggestCharts', [key], {});\n",
              "      }\n",
              "    </script>\n",
              "\n",
              "      <script>\n",
              "\n",
              "function displayQuickchartButton(domScope) {\n",
              "  let quickchartButtonEl =\n",
              "    domScope.querySelector('#df-8a818169-185c-42a7-b4b3-c12509253c0d button.colab-df-quickchart');\n",
              "  quickchartButtonEl.style.display =\n",
              "    google.colab.kernel.accessAllowed ? 'block' : 'none';\n",
              "}\n",
              "\n",
              "        displayQuickchartButton(document);\n",
              "      </script>\n",
              "      <style>\n",
              "    .colab-df-container {\n",
              "      display:flex;\n",
              "      flex-wrap:wrap;\n",
              "      gap: 12px;\n",
              "    }\n",
              "\n",
              "    .colab-df-convert {\n",
              "      background-color: #E8F0FE;\n",
              "      border: none;\n",
              "      border-radius: 50%;\n",
              "      cursor: pointer;\n",
              "      display: none;\n",
              "      fill: #1967D2;\n",
              "      height: 32px;\n",
              "      padding: 0 0 0 0;\n",
              "      width: 32px;\n",
              "    }\n",
              "\n",
              "    .colab-df-convert:hover {\n",
              "      background-color: #E2EBFA;\n",
              "      box-shadow: 0px 1px 2px rgba(60, 64, 67, 0.3), 0px 1px 3px 1px rgba(60, 64, 67, 0.15);\n",
              "      fill: #174EA6;\n",
              "    }\n",
              "\n",
              "    [theme=dark] .colab-df-convert {\n",
              "      background-color: #3B4455;\n",
              "      fill: #D2E3FC;\n",
              "    }\n",
              "\n",
              "    [theme=dark] .colab-df-convert:hover {\n",
              "      background-color: #434B5C;\n",
              "      box-shadow: 0px 1px 3px 1px rgba(0, 0, 0, 0.15);\n",
              "      filter: drop-shadow(0px 1px 2px rgba(0, 0, 0, 0.3));\n",
              "      fill: #FFFFFF;\n",
              "    }\n",
              "  </style>\n",
              "\n",
              "      <script>\n",
              "        const buttonEl =\n",
              "          document.querySelector('#df-b746410c-3937-41b8-9a8f-96f26749e62d button.colab-df-convert');\n",
              "        buttonEl.style.display =\n",
              "          google.colab.kernel.accessAllowed ? 'block' : 'none';\n",
              "\n",
              "        async function convertToInteractive(key) {\n",
              "          const element = document.querySelector('#df-b746410c-3937-41b8-9a8f-96f26749e62d');\n",
              "          const dataTable =\n",
              "            await google.colab.kernel.invokeFunction('convertToInteractive',\n",
              "                                                     [key], {});\n",
              "          if (!dataTable) return;\n",
              "\n",
              "          const docLinkHtml = 'Like what you see? Visit the ' +\n",
              "            '<a target=\"_blank\" href=https://colab.research.google.com/notebooks/data_table.ipynb>data table notebook</a>'\n",
              "            + ' to learn more about interactive tables.';\n",
              "          element.innerHTML = '';\n",
              "          dataTable['output_type'] = 'display_data';\n",
              "          await google.colab.output.renderOutput(dataTable, element);\n",
              "          const docLink = document.createElement('div');\n",
              "          docLink.innerHTML = docLinkHtml;\n",
              "          element.appendChild(docLink);\n",
              "        }\n",
              "      </script>\n",
              "    </div>\n",
              "  </div>\n"
            ]
          },
          "metadata": {},
          "execution_count": 58
        }
      ]
    },
    {
      "cell_type": "code",
      "source": [
        "\n",
        "data.to_csv(filename + '.csv')"
      ],
      "metadata": {
        "id": "HZ5hZfKRs8BV"
      },
      "execution_count": 59,
      "outputs": []
    },
    {
      "cell_type": "code",
      "source": [
        "freq = []\n",
        "for i in range(0, 60):\n",
        "  if i >=20 and i<40:\n",
        "    temp = new_data[i*60:i*60+60]\n",
        "    value = temp['Frequency'].mean()\n",
        "    freq.append(value)\n",
        "  else:\n",
        "    temp = new_data[i*60:i*60+60]\n",
        "\n",
        "    temp = temp[temp['behaviour'] == 'calm']\n",
        "\n",
        "    value = temp['Frequency'].mean()\n",
        "    if temp.shape[0] == 0:\n",
        "      freq.append(130)\n",
        "    else:\n",
        "      freq.append(value)\n",
        ""
      ],
      "metadata": {
        "id": "u2G--s0_pQSy"
      },
      "execution_count": 60,
      "outputs": []
    },
    {
      "cell_type": "code",
      "source": [
        "data = {'frequency': freq}\n",
        "data= pd.DataFrame(data)\n",
        "data.to_csv(filename + '_minute.csv')"
      ],
      "metadata": {
        "id": "8wn3guesk97e"
      },
      "execution_count": 61,
      "outputs": []
    },
    {
      "cell_type": "code",
      "source": [
        "from matplotlib import pyplot as plt\n",
        "len(freq)"
      ],
      "metadata": {
        "colab": {
          "base_uri": "https://localhost:8080/"
        },
        "id": "JfWKu_CFjeqv",
        "outputId": "3c3ef6f4-d1fe-4162-d672-4b692c5889b1"
      },
      "execution_count": 62,
      "outputs": [
        {
          "output_type": "execute_result",
          "data": {
            "text/plain": [
              "60"
            ]
          },
          "metadata": {},
          "execution_count": 62
        }
      ]
    },
    {
      "cell_type": "code",
      "source": [
        "plt.plot([x for x in range(60)], freq)\n",
        "x1= [20 for i in range(600)]\n",
        "x2= [40 for i in range(600)]\n",
        "y1 = [i for i in range(600)]\n",
        "\n",
        "plt.plot(20)\n",
        "plt.plot(x1, y1, color='black')\n",
        "plt.plot(x2, y1, color='black')\n",
        "plt.ylim(0,600)\n",
        "\n",
        "plt.savefig(filename+'.png', dpi=600)"
      ],
      "metadata": {
        "colab": {
          "base_uri": "https://localhost:8080/",
          "height": 435
        },
        "id": "W5S1v5mhvZVn",
        "outputId": "02812df7-fbe6-4597-8341-c4d834a4869f"
      },
      "execution_count": 63,
      "outputs": [
        {
          "output_type": "display_data",
          "data": {
            "text/plain": [
              "<Figure size 640x480 with 1 Axes>"
            ],
            "image/png": "[encoded data removed]"
          },
          "metadata": {}
        }
      ]
    },
    {
      "cell_type": "code",
      "source": [
        "%cd"
      ],
      "metadata": {
        "colab": {
          "base_uri": "https://localhost:8080/"
        },
        "id": "vEaU-dKQveSX",
        "outputId": "800d8a9c-fd03-4662-d427-f2ce290077f8"
      },
      "execution_count": 69,
      "outputs": [
        {
          "output_type": "stream",
          "name": "stdout",
          "text": [
            "/root\n"
          ]
        }
      ]
    },
    {
      "cell_type": "code",
      "source": [],
      "metadata": {
        "id": "fVfPhwo8_yHp"
      },
      "execution_count": null,
      "outputs": []
    }
  ]
}