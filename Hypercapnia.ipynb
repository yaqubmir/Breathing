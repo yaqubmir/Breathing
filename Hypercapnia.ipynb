{
  "nbformat": 4,
  "nbformat_minor": 0,
  "metadata": {
    "colab": {
      "provenance": [],
      "toc_visible": true,
      "authorship_tag": "ABX9TyPYDmiE4hj67yO4HwRDGqLu",
      "include_colab_link": true
    },
    "kernelspec": {
      "name": "python3",
      "display_name": "Python 3"
    },
    "language_info": {
      "name": "python"
    }
  },
  "cells": [
    {
      "cell_type": "markdown",
      "metadata": {
        "id": "view-in-github",
        "colab_type": "text"
      },
      "source": [
        "<a href=\"https://colab.research.google.com/github/yaqubmir/Breathing/blob/main/Hypercapnia.ipynb\" target=\"_parent\"><img src=\"https://colab.research.google.com/assets/colab-badge.svg\" alt=\"Open In Colab\"/></a>"
      ]
    },
    {
      "cell_type": "code",
      "execution_count": 3,
      "metadata": {
        "id": "oYgzVDZ2ST7g"
      },
      "outputs": [],
      "source": [
        "import pandas as pd\n",
        "filepath = '/content/june30_2023_435_hypercapnia.csv'\n",
        "import numpy as np"
      ]
    },
    {
      "cell_type": "code",
      "source": [
        "data = pd.read_csv(filepath)"
      ],
      "metadata": {
        "id": "U8vhNAhTSdA_"
      },
      "execution_count": 4,
      "outputs": []
    },
    {
      "cell_type": "code",
      "source": [
        "data.columns"
      ],
      "metadata": {
        "colab": {
          "base_uri": "https://localhost:8080/"
        },
        "id": "JcepfgDLSfPQ",
        "outputId": "907419ff-013c-44f9-9d33-534b4614a38d"
      },
      "execution_count": 80,
      "outputs": [
        {
          "output_type": "execute_result",
          "data": {
            "text/plain": [
              "Index(['39', 'Date', 'time', 'time1', 'Unnamed: 4', 'Unnamed: 5', 'Unnamed: 6',\n",
              "       'Unnamed: 7', 'Unnamed: 8', '1', '0', '0.1', '0.2', '0.3', '0.4', '0.5',\n",
              "       '0.6', '0.7', '0.8', '0.9', '0.10', 'Frequency', '0.11', '0.12', '0.13',\n",
              "       '0.14', '0.15', '0.16', '0.17', '0.18', '0.19', '0.20', '0.21', '0.22'],\n",
              "      dtype='object')"
            ]
          },
          "metadata": {},
          "execution_count": 80
        }
      ]
    },
    {
      "cell_type": "code",
      "source": [
        "\n",
        "\n",
        "data = data[['Date', 'time', 'time1', 'Frequency']]"
      ],
      "metadata": {
        "id": "KP5CqUWRk9mX"
      },
      "execution_count": 5,
      "outputs": []
    },
    {
      "cell_type": "code",
      "source": [
        "def map_behaviour(frequency):\n",
        "  if frequency>=500:\n",
        "    return 'Snifing'\n",
        "  elif frequency>=400 and frequency<500:\n",
        "    return 'licking'\n",
        "  elif frequency>=300 and frequency<400:\n",
        "    return 'face scratching'\n",
        "  elif frequency>=50:\n",
        "    return 'calm'\n",
        "  else:\n",
        "    return 'rej'"
      ],
      "metadata": {
        "id": "vETtJ2bMk9zQ"
      },
      "execution_count": 6,
      "outputs": []
    },
    {
      "cell_type": "code",
      "source": [
        "data['behaviour'] = data['Frequency'].map(map_behaviour)"
      ],
      "metadata": {
        "id": "x4e0w8N_k920"
      },
      "execution_count": 7,
      "outputs": []
    },
    {
      "cell_type": "code",
      "source": [
        "new_data = data[599:4199]\n",
        "new_data"
      ],
      "metadata": {
        "colab": {
          "base_uri": "https://localhost:8080/",
          "height": 423
        },
        "id": "KQynK5nlotZP",
        "outputId": "64f72dbf-db61-48bd-b642-aded77f85384"
      },
      "execution_count": 8,
      "outputs": [
        {
          "output_type": "execute_result",
          "data": {
            "text/plain": [
              "           Date            time    time1  Frequency        behaviour\n",
              "599   30-Jun-23  3:05:18 PM.777  10:06.0        296             calm\n",
              "600   30-Jun-23  3:05:19 PM.777  10:07.0        236             calm\n",
              "601   30-Jun-23  3:05:20 PM.777  10:08.0        335  face scratching\n",
              "602   30-Jun-23  3:05:21 PM.777  10:09.0        293             calm\n",
              "603   30-Jun-23  3:05:22 PM.777  10:10.0        241             calm\n",
              "...         ...             ...      ...        ...              ...\n",
              "4194  30-Jun-23  4:05:13 PM.777  10:01.0        243             calm\n",
              "4195  30-Jun-23  4:05:14 PM.777  10:02.0        293             calm\n",
              "4196  30-Jun-23  4:05:15 PM.777  10:03.0        147             calm\n",
              "4197  30-Jun-23  4:05:16 PM.777  10:04.0        341  face scratching\n",
              "4198  30-Jun-23  4:05:17 PM.777  10:05.0        232             calm\n",
              "\n",
              "[3600 rows x 5 columns]"
            ],
            "text/html": [
              "\n",
              "\n",
              "  <div id=\"df-c0f981d8-e3ae-4ae0-8dab-75e0c0b3111a\">\n",
              "    <div class=\"colab-df-container\">\n",
              "      <div>\n",
              "<style scoped>\n",
              "    .dataframe tbody tr th:only-of-type {\n",
              "        vertical-align: middle;\n",
              "    }\n",
              "\n",
              "    .dataframe tbody tr th {\n",
              "        vertical-align: top;\n",
              "    }\n",
              "\n",
              "    .dataframe thead th {\n",
              "        text-align: right;\n",
              "    }\n",
              "</style>\n",
              "<table border=\"1\" class=\"dataframe\">\n",
              "  <thead>\n",
              "    <tr style=\"text-align: right;\">\n",
              "      <th></th>\n",
              "      <th>Date</th>\n",
              "      <th>time</th>\n",
              "      <th>time1</th>\n",
              "      <th>Frequency</th>\n",
              "      <th>behaviour</th>\n",
              "    </tr>\n",
              "  </thead>\n",
              "  <tbody>\n",
              "    <tr>\n",
              "      <th>599</th>\n",
              "      <td>30-Jun-23</td>\n",
              "      <td>3:05:18 PM.777</td>\n",
              "      <td>10:06.0</td>\n",
              "      <td>296</td>\n",
              "      <td>calm</td>\n",
              "    </tr>\n",
              "    <tr>\n",
              "      <th>600</th>\n",
              "      <td>30-Jun-23</td>\n",
              "      <td>3:05:19 PM.777</td>\n",
              "      <td>10:07.0</td>\n",
              "      <td>236</td>\n",
              "      <td>calm</td>\n",
              "    </tr>\n",
              "    <tr>\n",
              "      <th>601</th>\n",
              "      <td>30-Jun-23</td>\n",
              "      <td>3:05:20 PM.777</td>\n",
              "      <td>10:08.0</td>\n",
              "      <td>335</td>\n",
              "      <td>face scratching</td>\n",
              "    </tr>\n",
              "    <tr>\n",
              "      <th>602</th>\n",
              "      <td>30-Jun-23</td>\n",
              "      <td>3:05:21 PM.777</td>\n",
              "      <td>10:09.0</td>\n",
              "      <td>293</td>\n",
              "      <td>calm</td>\n",
              "    </tr>\n",
              "    <tr>\n",
              "      <th>603</th>\n",
              "      <td>30-Jun-23</td>\n",
              "      <td>3:05:22 PM.777</td>\n",
              "      <td>10:10.0</td>\n",
              "      <td>241</td>\n",
              "      <td>calm</td>\n",
              "    </tr>\n",
              "    <tr>\n",
              "      <th>...</th>\n",
              "      <td>...</td>\n",
              "      <td>...</td>\n",
              "      <td>...</td>\n",
              "      <td>...</td>\n",
              "      <td>...</td>\n",
              "    </tr>\n",
              "    <tr>\n",
              "      <th>4194</th>\n",
              "      <td>30-Jun-23</td>\n",
              "      <td>4:05:13 PM.777</td>\n",
              "      <td>10:01.0</td>\n",
              "      <td>243</td>\n",
              "      <td>calm</td>\n",
              "    </tr>\n",
              "    <tr>\n",
              "      <th>4195</th>\n",
              "      <td>30-Jun-23</td>\n",
              "      <td>4:05:14 PM.777</td>\n",
              "      <td>10:02.0</td>\n",
              "      <td>293</td>\n",
              "      <td>calm</td>\n",
              "    </tr>\n",
              "    <tr>\n",
              "      <th>4196</th>\n",
              "      <td>30-Jun-23</td>\n",
              "      <td>4:05:15 PM.777</td>\n",
              "      <td>10:03.0</td>\n",
              "      <td>147</td>\n",
              "      <td>calm</td>\n",
              "    </tr>\n",
              "    <tr>\n",
              "      <th>4197</th>\n",
              "      <td>30-Jun-23</td>\n",
              "      <td>4:05:16 PM.777</td>\n",
              "      <td>10:04.0</td>\n",
              "      <td>341</td>\n",
              "      <td>face scratching</td>\n",
              "    </tr>\n",
              "    <tr>\n",
              "      <th>4198</th>\n",
              "      <td>30-Jun-23</td>\n",
              "      <td>4:05:17 PM.777</td>\n",
              "      <td>10:05.0</td>\n",
              "      <td>232</td>\n",
              "      <td>calm</td>\n",
              "    </tr>\n",
              "  </tbody>\n",
              "</table>\n",
              "<p>3600 rows × 5 columns</p>\n",
              "</div>\n",
              "      <button class=\"colab-df-convert\" onclick=\"convertToInteractive('df-c0f981d8-e3ae-4ae0-8dab-75e0c0b3111a')\"\n",
              "              title=\"Convert this dataframe to an interactive table.\"\n",
              "              style=\"display:none;\">\n",
              "\n",
              "  <svg xmlns=\"http://www.w3.org/2000/svg\" height=\"24px\"viewBox=\"0 0 24 24\"\n",
              "       width=\"24px\">\n",
              "    <path d=\"M0 0h24v24H0V0z\" fill=\"none\"/>\n",
              "    <path d=\"M18.56 5.44l.94 2.06.94-2.06 2.06-.94-2.06-.94-.94-2.06-.94 2.06-2.06.94zm-11 1L8.5 8.5l.94-2.06 2.06-.94-2.06-.94L8.5 2.5l-.94 2.06-2.06.94zm10 10l.94 2.06.94-2.06 2.06-.94-2.06-.94-.94-2.06-.94 2.06-2.06.94z\"/><path d=\"M17.41 7.96l-1.37-1.37c-.4-.4-.92-.59-1.43-.59-.52 0-1.04.2-1.43.59L10.3 9.45l-7.72 7.72c-.78.78-.78 2.05 0 2.83L4 21.41c.39.39.9.59 1.41.59.51 0 1.02-.2 1.41-.59l7.78-7.78 2.81-2.81c.8-.78.8-2.07 0-2.86zM5.41 20L4 18.59l7.72-7.72 1.47 1.35L5.41 20z\"/>\n",
              "  </svg>\n",
              "      </button>\n",
              "\n",
              "\n",
              "\n",
              "    <div id=\"df-963b30ed-9c99-420c-9275-b9f8111c42e8\">\n",
              "      <button class=\"colab-df-quickchart\" onclick=\"quickchart('df-963b30ed-9c99-420c-9275-b9f8111c42e8')\"\n",
              "              title=\"Suggest charts.\"\n",
              "              style=\"display:none;\">\n",
              "\n",
              "<svg xmlns=\"http://www.w3.org/2000/svg\" height=\"24px\"viewBox=\"0 0 24 24\"\n",
              "     width=\"24px\">\n",
              "    <g>\n",
              "        <path d=\"M19 3H5c-1.1 0-2 .9-2 2v14c0 1.1.9 2 2 2h14c1.1 0 2-.9 2-2V5c0-1.1-.9-2-2-2zM9 17H7v-7h2v7zm4 0h-2V7h2v10zm4 0h-2v-4h2v4z\"/>\n",
              "    </g>\n",
              "</svg>\n",
              "      </button>\n",
              "    </div>\n",
              "\n",
              "<style>\n",
              "  .colab-df-quickchart {\n",
              "    background-color: #E8F0FE;\n",
              "    border: none;\n",
              "    border-radius: 50%;\n",
              "    cursor: pointer;\n",
              "    display: none;\n",
              "    fill: #1967D2;\n",
              "    height: 32px;\n",
              "    padding: 0 0 0 0;\n",
              "    width: 32px;\n",
              "  }\n",
              "\n",
              "  .colab-df-quickchart:hover {\n",
              "    background-color: #E2EBFA;\n",
              "    box-shadow: 0px 1px 2px rgba(60, 64, 67, 0.3), 0px 1px 3px 1px rgba(60, 64, 67, 0.15);\n",
              "    fill: #174EA6;\n",
              "  }\n",
              "\n",
              "  [theme=dark] .colab-df-quickchart {\n",
              "    background-color: #3B4455;\n",
              "    fill: #D2E3FC;\n",
              "  }\n",
              "\n",
              "  [theme=dark] .colab-df-quickchart:hover {\n",
              "    background-color: #434B5C;\n",
              "    box-shadow: 0px 1px 3px 1px rgba(0, 0, 0, 0.15);\n",
              "    filter: drop-shadow(0px 1px 2px rgba(0, 0, 0, 0.3));\n",
              "    fill: #FFFFFF;\n",
              "  }\n",
              "</style>\n",
              "\n",
              "    <script>\n",
              "      async function quickchart(key) {\n",
              "        const containerElement = document.querySelector('#' + key);\n",
              "        const charts = await google.colab.kernel.invokeFunction(\n",
              "            'suggestCharts', [key], {});\n",
              "      }\n",
              "    </script>\n",
              "\n",
              "      <script>\n",
              "\n",
              "function displayQuickchartButton(domScope) {\n",
              "  let quickchartButtonEl =\n",
              "    domScope.querySelector('#df-963b30ed-9c99-420c-9275-b9f8111c42e8 button.colab-df-quickchart');\n",
              "  quickchartButtonEl.style.display =\n",
              "    google.colab.kernel.accessAllowed ? 'block' : 'none';\n",
              "}\n",
              "\n",
              "        displayQuickchartButton(document);\n",
              "      </script>\n",
              "      <style>\n",
              "    .colab-df-container {\n",
              "      display:flex;\n",
              "      flex-wrap:wrap;\n",
              "      gap: 12px;\n",
              "    }\n",
              "\n",
              "    .colab-df-convert {\n",
              "      background-color: #E8F0FE;\n",
              "      border: none;\n",
              "      border-radius: 50%;\n",
              "      cursor: pointer;\n",
              "      display: none;\n",
              "      fill: #1967D2;\n",
              "      height: 32px;\n",
              "      padding: 0 0 0 0;\n",
              "      width: 32px;\n",
              "    }\n",
              "\n",
              "    .colab-df-convert:hover {\n",
              "      background-color: #E2EBFA;\n",
              "      box-shadow: 0px 1px 2px rgba(60, 64, 67, 0.3), 0px 1px 3px 1px rgba(60, 64, 67, 0.15);\n",
              "      fill: #174EA6;\n",
              "    }\n",
              "\n",
              "    [theme=dark] .colab-df-convert {\n",
              "      background-color: #3B4455;\n",
              "      fill: #D2E3FC;\n",
              "    }\n",
              "\n",
              "    [theme=dark] .colab-df-convert:hover {\n",
              "      background-color: #434B5C;\n",
              "      box-shadow: 0px 1px 3px 1px rgba(0, 0, 0, 0.15);\n",
              "      filter: drop-shadow(0px 1px 2px rgba(0, 0, 0, 0.3));\n",
              "      fill: #FFFFFF;\n",
              "    }\n",
              "  </style>\n",
              "\n",
              "      <script>\n",
              "        const buttonEl =\n",
              "          document.querySelector('#df-c0f981d8-e3ae-4ae0-8dab-75e0c0b3111a button.colab-df-convert');\n",
              "        buttonEl.style.display =\n",
              "          google.colab.kernel.accessAllowed ? 'block' : 'none';\n",
              "\n",
              "        async function convertToInteractive(key) {\n",
              "          const element = document.querySelector('#df-c0f981d8-e3ae-4ae0-8dab-75e0c0b3111a');\n",
              "          const dataTable =\n",
              "            await google.colab.kernel.invokeFunction('convertToInteractive',\n",
              "                                                     [key], {});\n",
              "          if (!dataTable) return;\n",
              "\n",
              "          const docLinkHtml = 'Like what you see? Visit the ' +\n",
              "            '<a target=\"_blank\" href=https://colab.research.google.com/notebooks/data_table.ipynb>data table notebook</a>'\n",
              "            + ' to learn more about interactive tables.';\n",
              "          element.innerHTML = '';\n",
              "          dataTable['output_type'] = 'display_data';\n",
              "          await google.colab.output.renderOutput(dataTable, element);\n",
              "          const docLink = document.createElement('div');\n",
              "          docLink.innerHTML = docLinkHtml;\n",
              "          element.appendChild(docLink);\n",
              "        }\n",
              "      </script>\n",
              "    </div>\n",
              "  </div>\n"
            ]
          },
          "metadata": {},
          "execution_count": 8
        }
      ]
    },
    {
      "cell_type": "code",
      "source": [
        "data.to_csv('tc435.csv')"
      ],
      "metadata": {
        "id": "HZ5hZfKRs8BV"
      },
      "execution_count": 9,
      "outputs": []
    },
    {
      "cell_type": "code",
      "source": [
        "freq = []\n",
        "for i in range(0, 60):\n",
        "  if i >=20:\n",
        "    temp = new_data[i*60:i*60+60]\n",
        "    value = temp['Frequency'].mean()\n",
        "    freq.append(value)\n",
        "  else:\n",
        "    temp = new_data[i*60:i*60+60]\n",
        "\n",
        "    temp = temp[temp['behaviour'] == 'calm']\n",
        "\n",
        "    value = temp['Frequency'].mean()\n",
        "    if temp.shape[0] == 0:\n",
        "      freq.append(130)\n",
        "    else:\n",
        "      freq.append(value)\n",
        ""
      ],
      "metadata": {
        "id": "u2G--s0_pQSy"
      },
      "execution_count": 86,
      "outputs": []
    },
    {
      "cell_type": "code",
      "source": [
        "data = {'frequency': freq}\n",
        "data= pd.DataFrame(data)\n",
        "data.to_csv('tc440_minute.csv')"
      ],
      "metadata": {
        "id": "8wn3guesk97e"
      },
      "execution_count": 87,
      "outputs": []
    },
    {
      "cell_type": "code",
      "source": [
        "from matplotlib import pyplot as plt\n",
        "len(freq)"
      ],
      "metadata": {
        "colab": {
          "base_uri": "https://localhost:8080/"
        },
        "id": "JfWKu_CFjeqv",
        "outputId": "b2d62b6a-e2f8-4d42-c79e-ba3f43335176"
      },
      "execution_count": 88,
      "outputs": [
        {
          "output_type": "execute_result",
          "data": {
            "text/plain": [
              "60"
            ]
          },
          "metadata": {},
          "execution_count": 88
        }
      ]
    },
    {
      "cell_type": "code",
      "source": [
        "plt.plot([x for x in range(60)], freq)\n",
        "x1= [20 for i in range(600)]\n",
        "x2= [40 for i in range(600)]\n",
        "y1 = [i for i in range(600)]\n",
        "\n",
        "plt.plot(20)\n",
        "plt.plot(x1, y1, color='black')\n",
        "plt.plot(x2, y1, color='black')\n",
        "plt.ylim(0,600)\n",
        "\n",
        "plt.savefig('tc440.png', dpi=600)"
      ],
      "metadata": {
        "colab": {
          "base_uri": "https://localhost:8080/",
          "height": 435
        },
        "id": "W5S1v5mhvZVn",
        "outputId": "2ce927fc-47b3-4461-bd44-7876d5506bfd"
      },
      "execution_count": 90,
      "outputs": [
        {
          "output_type": "display_data",
          "data": {
            "text/plain": [
              "<Figure size 640x480 with 1 Axes>"
            ],
            "image/png": "[encoded data removed]"
          },
          "metadata": {}
        }
      ]
    },
    {
      "cell_type": "code",
      "source": [],
      "metadata": {
        "id": "vEaU-dKQveSX"
      },
      "execution_count": null,
      "outputs": []
    }
  ]
}